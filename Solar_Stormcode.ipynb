{
  "cells": [
    {
      "cell_type": "code",
      "execution_count": 1,
      "metadata": {
        "id": "v_6yC_QgxfLL"
      },
      "outputs": [],
      "source": [
        "from PIL import Image, ImageDraw, ImageFont\n",
        "\n",
        "# Load the AIA 131 image\n",
        "image_path = '/content/AIA_131_A.jpg'  # Update with your image path\n",
        "image = Image.open(image_path)\n",
        "\n",
        "# Create a drawing context\n",
        "draw = ImageDraw.Draw(image)\n",
        "\n",
        "# Use default font\n",
        "font = ImageFont.load_default()\n",
        "\n",
        "# Set the text and position\n",
        "text = \"AIA 131 - Solar Flares, May 2024\"\n",
        "text_position = (50, 50)  # Adjust as needed\n",
        "text_color = (255, 255, 255)  # White color for text\n",
        "\n",
        "# Add text to the image\n",
        "draw.text(text_position, text, font=font, fill=text_color)\n",
        "\n",
        "# Save the annotated image\n",
        "output_path = '/content/annotated131_img.jpg'\n",
        "image.save(output_path)\n",
        "\n",
        "# Display the image\n",
        "image.show()\n"
      ]
    },
    {
      "cell_type": "code",
      "execution_count": 2,
      "metadata": {
        "colab": {
          "base_uri": "https://localhost:8080/"
        },
        "id": "XDUls4fsxfLP",
        "outputId": "ac969110-0510-4276-b3a8-b56555e9c61f"
      },
      "outputs": [
        {
          "output_type": "stream",
          "name": "stdout",
          "text": [
            "The images are different.\n"
          ]
        }
      ],
      "source": [
        "from PIL import Image\n",
        "import numpy as np\n",
        "\n",
        "# Load both images\n",
        "image1 = Image.open('/content/AIA_131_A.jpg')\n",
        "image2 = Image.open('/content/annotated131_img.jpg')\n",
        "\n",
        "# Convert images to numpy arrays\n",
        "image1_array = np.array(image1)\n",
        "image2_array = np.array(image2)\n",
        "\n",
        "# Compare the arrays\n",
        "if np.array_equal(image1_array, image2_array):\n",
        "    print(\"The images are identical.\")\n",
        "else:\n",
        "    print(\"The images are different.\")\n"
      ]
    },
    {
      "cell_type": "code",
      "execution_count": 3,
      "metadata": {
        "id": "aYVetfOdxfLR"
      },
      "outputs": [],
      "source": [
        "from PIL import Image, ImageDraw, ImageFont\n",
        "\n",
        "# Load the AIA 131 image\n",
        "image_path = '/content/AIA_131_A.jpg'  # Update with your image path\n",
        "image = Image.open(image_path)\n",
        "\n",
        "# Create a drawing context\n",
        "draw = ImageDraw.Draw(image)\n",
        "\n",
        "# Use default font\n",
        "font = ImageFont.load_default()\n",
        "\n",
        "# Set the text and position\n",
        "text = \"AIA 171 - Solar Flares, May 2024\"\n",
        "text_position = (50, 50)  # Adjust as needed\n",
        "text_color = (255, 255, 255)  # White color for text\n",
        "\n",
        "# Add text to the image\n",
        "draw.text(text_position, text, font=font, fill=text_color)\n",
        "\n",
        "# Example of adding a rectangle to highlight a region\n",
        "rectangle_box = (100, 100, 200, 200)  # Adjust coordinates as needed\n",
        "rectangle_color = (255, 0, 0)  # Red color for the rectangle\n",
        "draw.rectangle(rectangle_box, outline=rectangle_color, width=3)\n",
        "\n",
        "# Example of adding an ellipse to highlight a feature\n",
        "ellipse_box = (300, 300, 400, 400)  # Adjust coordinates as needed\n",
        "ellipse_color = (0, 255, 0)  # Green color for the ellipse\n",
        "draw.ellipse(ellipse_box, outline=ellipse_color, width=3)\n",
        "\n",
        "# Save the annotated image\n",
        "output_path = '/content/annotated131_img.jpg'\n",
        "image.save(output_path)\n",
        "\n",
        "# Display the image\n",
        "image.show()\n"
      ]
    },
    {
      "cell_type": "code",
      "execution_count": 4,
      "metadata": {
        "colab": {
          "base_uri": "https://localhost:8080/"
        },
        "id": "7VnFwUN0xfLS",
        "outputId": "f9e8f583-da01-4215-9e30-aa6682905ddc"
      },
      "outputs": [
        {
          "output_type": "stream",
          "name": "stdout",
          "text": [
            "Requirement already satisfied: opencv-python in /usr/local/lib/python3.10/dist-packages (4.10.0.84)\n",
            "Requirement already satisfied: numpy in /usr/local/lib/python3.10/dist-packages (1.26.4)\n",
            "Requirement already satisfied: pillow in /usr/local/lib/python3.10/dist-packages (9.4.0)\n"
          ]
        }
      ],
      "source": [
        "%pip install opencv-python numpy pillow\n"
      ]
    },
    {
      "cell_type": "code",
      "execution_count": 5,
      "metadata": {
        "id": "fMy0li_TxfLU"
      },
      "outputs": [],
      "source": [
        "import cv2\n",
        "import numpy as np\n",
        "from PIL import Image, ImageDraw\n",
        "\n",
        "# Load the image\n",
        "image_path = '/content/AIA_131_A.jpg'  # Update with your image path\n",
        "image = Image.open(image_path)\n",
        "image_np = np.array(image)\n",
        "\n",
        "# Convert to grayscale\n",
        "gray_image = cv2.cvtColor(image_np, cv2.COLOR_BGR2GRAY)\n",
        "\n",
        "# Apply thresholding to find bright spots (solar flares)\n",
        "_, thresh = cv2.threshold(gray_image, 200, 255, cv2.THRESH_BINARY)  # Adjust threshold value as needed\n",
        "\n",
        "# Find contours (regions with significant brightness)\n",
        "contours, _ = cv2.findContours(thresh, cv2.RETR_EXTERNAL, cv2.CHAIN_APPROX_SIMPLE)\n",
        "\n",
        "# Create a drawing context\n",
        "draw = ImageDraw.Draw(image)\n",
        "\n",
        "# Set rectangle color\n",
        "rectangle_color = (255, 0, 0)  # Red color for the rectangle\n",
        "rectangle_width = 3  # Width of the rectangle border\n",
        "\n",
        "# Draw rectangles around detected regions\n",
        "for contour in contours:\n",
        "    x, y, w, h = cv2.boundingRect(contour)\n",
        "    draw.rectangle([x, y, x + w, y + h], outline=rectangle_color, width=rectangle_width)\n",
        "\n",
        "# Save the annotated image\n",
        "output_path = '/content/annotated131_img_with_flares.jpg'\n",
        "image.save(output_path)\n",
        "\n",
        "# Display the image\n",
        "image.show()"
      ]
    },
    {
      "cell_type": "code",
      "source": [
        "\n",
        "\n",
        "# Convert the grayscale NumPy array to a PIL Image\n",
        "gray_image_pil = Image.fromarray(gray_image)\n",
        "\n",
        "# Save the PIL Image as a JPG file\n",
        "output_path = '/content/grayscale131_image.jpg'\n",
        "gray_image_pil.save(output_path)\n",
        "\n",
        "print(f\"Grayscale image saved as: {output_path}\")\n"
      ],
      "metadata": {
        "id": "lpuup1MBLEbF",
        "colab": {
          "base_uri": "https://localhost:8080/"
        },
        "outputId": "18e699ea-7739-452a-df82-9c76019ea759"
      },
      "execution_count": 6,
      "outputs": [
        {
          "output_type": "stream",
          "name": "stdout",
          "text": [
            "Grayscale image saved as: /content/grayscale131_image.jpg\n"
          ]
        }
      ]
    },
    {
      "cell_type": "code",
      "execution_count": 7,
      "metadata": {
        "id": "2GuHiyOxxfLV"
      },
      "outputs": [],
      "source": [
        "import cv2\n",
        "import numpy as np\n",
        "from PIL import Image, ImageDraw\n",
        "\n",
        "# Load the image\n",
        "image_path = '/content/AIA_131_A.jpg'  # Update with your image path\n",
        "image = Image.open(image_path)\n",
        "image_np = np.array(image)\n",
        "\n",
        "# Convert to grayscale\n",
        "gray_image = cv2.cvtColor(image_np, cv2.COLOR_BGR2GRAY)\n",
        "\n",
        "# Apply thresholding to find bright spots (solar flares)\n",
        "_, thresh = cv2.threshold(gray_image, 200, 255, cv2.THRESH_BINARY)  # Adjust threshold value as needed\n",
        "\n",
        "# Find contours (regions with significant brightness)\n",
        "contours, _ = cv2.findContours(thresh, cv2.RETR_EXTERNAL, cv2.CHAIN_APPROX_SIMPLE)\n",
        "\n",
        "# Create a drawing context\n",
        "draw = ImageDraw.Draw(image)\n",
        "\n",
        "# Define colors for different types of flares\n",
        "colors = [(255, 0, 0), (0, 255, 0), (0, 0, 255), (255, 255, 0)]  # Red, Green, Blue, Yellow\n",
        "\n",
        "# Draw colored rings around detected regions\n",
        "for i, contour in enumerate(contours):\n",
        "    # Get bounding box\n",
        "    x, y, w, h = cv2.boundingRect(contour)\n",
        "    center_x = x + w // 2\n",
        "    center_y = y + h // 2\n",
        "    radius = max(w, h) // 2  # Approximate radius\n",
        "\n",
        "    # Select color for the current flare\n",
        "    color = colors[i % len(colors)]  # Cycle through colors\n",
        "\n",
        "    # Draw a circle (ring) around the detected region\n",
        "    draw.ellipse([center_x - radius, center_y - radius, center_x + radius, center_y + radius],\n",
        "                 outline=color, width=3)\n",
        "\n",
        "# Save the annotated image\n",
        "output_path = '/content/annotated131_img_with_colored_rings.jpg'\n",
        "image.save(output_path)\n",
        "\n",
        "# Display the image\n",
        "image.show()\n"
      ]
    },
    {
      "cell_type": "code",
      "execution_count": 8,
      "metadata": {
        "id": "R8p3Kv-AxfLW"
      },
      "outputs": [],
      "source": [
        "import cv2\n",
        "import numpy as np\n",
        "from PIL import Image, ImageDraw\n",
        "\n",
        "# Load the image\n",
        "image_path = '/content/AIA_193_A.jpg'  # Update with your image path\n",
        "image = Image.open(image_path)\n",
        "image_np = np.array(image)\n",
        "\n",
        "# Convert to grayscale\n",
        "gray_image = cv2.cvtColor(image_np, cv2.COLOR_BGR2GRAY)\n",
        "\n",
        "# Apply thresholding to find bright spots (solar flares)\n",
        "_, thresh = cv2.threshold(gray_image, 200, 255, cv2.THRESH_BINARY)  # Adjust threshold value as needed\n",
        "\n",
        "# Find contours (regions with significant brightness)\n",
        "contours, _ = cv2.findContours(thresh, cv2.RETR_EXTERNAL, cv2.CHAIN_APPROX_SIMPLE)\n",
        "\n",
        "# Create a drawing context\n",
        "draw = ImageDraw.Draw(image)\n",
        "\n",
        "# Define colors for different danger levels\n",
        "colors = {\n",
        "    'most_dangerous': (255, 0, 0),    # Red\n",
        "    'high_danger': (255, 165, 0),     # Orange\n",
        "    'medium_danger': (255, 255, 0),   # Yellow\n",
        "    'low_danger': (0, 255, 0)         # Green\n",
        "}\n",
        "\n",
        "# Define thresholds for danger levels\n",
        "thresholds = {\n",
        "    'most_dangerous': 1000,   # Example value, adjust based on your needs\n",
        "    'high_danger': 500,\n",
        "    'medium_danger': 200,\n",
        "    'low_danger': 0\n",
        "}\n",
        "\n",
        "# Rank contours based on area and assign colors\n",
        "for contour in contours:\n",
        "    # Get bounding box and area\n",
        "    x, y, w, h = cv2.boundingRect(contour)\n",
        "    area = cv2.contourArea(contour)\n",
        "    center_x = x + w // 2\n",
        "    center_y = y + h // 2\n",
        "    radius = max(w, h) // 2  # Approximate radius\n",
        "\n",
        "    # Determine color based on area\n",
        "    if area >= thresholds['most_dangerous']:\n",
        "        color = colors['most_dangerous']\n",
        "    elif area >= thresholds['high_danger']:\n",
        "        color = colors['high_danger']\n",
        "    elif area >= thresholds['medium_danger']:\n",
        "        color = colors['medium_danger']\n",
        "    else:\n",
        "        color = colors['low_danger']\n",
        "\n",
        "    # Draw a circle (ring) around the detected region\n",
        "    draw.ellipse([center_x - radius, center_y - radius, center_x + radius, center_y + radius],\n",
        "                 outline=color, width=3)\n",
        "\n",
        "# Save the annotated image\n",
        "output_path = '/content/annotated193_img_with_danger_levels.jpg'\n",
        "image.save(output_path)\n",
        "\n",
        "# Display the image\n",
        "image.show()\n"
      ]
    },
    {
      "cell_type": "code",
      "source": [
        "import numpy as np\n",
        "# Load the image\n",
        "image_path = '/content/AIA_193_A.jpg'  # Update with your image path\n",
        "image = Image.open(image_path)\n",
        "image_np = np.array(image)\n",
        "\n",
        "# Convert to grayscale\n",
        "gray_image = cv2.cvtColor(image_np, cv2.COLOR_BGR2GRAY)\n",
        "\n",
        "# Convert the grayscale NumPy array to a PIL Image\n",
        "gray_image_pil = Image.fromarray(gray_image)\n",
        "\n",
        "# Save the PIL Image as a JPG file\n",
        "output_path = '/content/grayscale_img2.jpg'\n",
        "gray_image_pil.save(output_path)\n",
        "\n",
        "print(f\"Grayscale image saved as: {output_path}\")\n"
      ],
      "metadata": {
        "colab": {
          "base_uri": "https://localhost:8080/"
        },
        "id": "wjv6I1nWLOlK",
        "outputId": "0e61d473-1f27-4c0c-cd16-5aea12be41d8"
      },
      "execution_count": 9,
      "outputs": [
        {
          "output_type": "stream",
          "name": "stdout",
          "text": [
            "Grayscale image saved as: /content/grayscale_img2.jpg\n"
          ]
        }
      ]
    },
    {
      "cell_type": "code",
      "execution_count": 10,
      "metadata": {
        "id": "ghGlm1kmxfLW"
      },
      "outputs": [],
      "source": [
        "import cv2\n",
        "from PIL import Image\n",
        "import numpy as np\n",
        "\n",
        "# Load the grayscale image\n",
        "image_path = '/content/grayscale131_image.jpg'  # Replace with your grayscale image path\n",
        "gray_image = cv2.imread(image_path, cv2.IMREAD_GRAYSCALE)\n",
        "\n",
        "# Apply binary thresholding\n",
        "# All pixel values above 127 will be set to 255, and below 127 will be set to 0\n",
        "_, binary_image = cv2.threshold(gray_image, 127, 255, cv2.THRESH_BINARY)\n",
        "\n",
        "# Convert the result back to a PIL image for further use (optional)\n",
        "binary_image_pil = Image.fromarray(binary_image)\n",
        "\n",
        "# Save the binary image for future use\n",
        "binary_output_path = '/content/binary131_image.jpg'\n",
        "binary_image_pil.save(binary_output_path)\n",
        "\n",
        "# Display the binary image\n",
        "binary_image_pil.show()\n"
      ]
    },
    {
      "cell_type": "code",
      "source": [
        "import cv2\n",
        "from PIL import Image\n",
        "import numpy as np\n",
        "\n",
        "# Load the grayscale image\n",
        "image_path = '/content/grayscale_img2.jpg'  # Replace with your grayscale image path\n",
        "gray_image = cv2.imread(image_path, cv2.IMREAD_GRAYSCALE)\n",
        "\n",
        "# Apply binary thresholding\n",
        "# All pixel values above 127 will be set to 255, and below 127 will be set to 0\n",
        "_, binary_image = cv2.threshold(gray_image, 127, 255, cv2.THRESH_BINARY)\n",
        "\n",
        "# Convert the result back to a PIL image for further use (optional)\n",
        "binary_image_pil = Image.fromarray(binary_image)\n",
        "\n",
        "# Save the binary image for future use\n",
        "binary_output_path = '/content/binary193_image.jpg'\n",
        "binary_image_pil.save(binary_output_path)\n",
        "\n",
        "# Display the binary image\n",
        "binary_image_pil.show()\n"
      ],
      "metadata": {
        "id": "AEP7LKIKz0NB"
      },
      "execution_count": 11,
      "outputs": []
    },
    {
      "cell_type": "code",
      "source": [],
      "metadata": {
        "id": "to7yN8zpMTRF"
      },
      "execution_count": null,
      "outputs": []
    }
  ],
  "metadata": {
    "kernelspec": {
      "display_name": "data_engineering",
      "language": "python",
      "name": "python3"
    },
    "language_info": {
      "codemirror_mode": {
        "name": "ipython",
        "version": 3
      },
      "file_extension": ".py",
      "mimetype": "text/x-python",
      "name": "python",
      "nbconvert_exporter": "python",
      "pygments_lexer": "ipython3",
      "version": "3.11.4"
    },
    "colab": {
      "provenance": []
    }
  },
  "nbformat": 4,
  "nbformat_minor": 0
}